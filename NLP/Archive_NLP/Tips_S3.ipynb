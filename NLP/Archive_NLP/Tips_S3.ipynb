{
  "nbformat": 4,
  "nbformat_minor": 0,
  "metadata": {
    "colab": {
      "name": "Tips_S3.ipynb",
      "provenance": [],
      "collapsed_sections": []
    },
    "kernelspec": {
      "name": "python3",
      "display_name": "Python 3"
    }
  },
  "cells": [
    {
      "cell_type": "markdown",
      "metadata": {
        "id": "QYeA1e7-bnRC",
        "colab_type": "text"
      },
      "source": [
        "# Pulling Data from S3 and NLP'ing it "
      ]
    },
    {
      "cell_type": "code",
      "metadata": {
        "id": "nmY3nh6_oV4N",
        "colab_type": "code",
        "colab": {
          "base_uri": "https://localhost:8080/",
          "height": 221
        },
        "outputId": "e1de1d8d-3d4e-4051-efa0-49818ac65d90"
      },
      "source": [
        "import os\n",
        "import re\n",
        "import string\n",
        "import sys\n",
        "import time\n",
        "import collections\n",
        "# from awstools.awstools import s3\n",
        "import pandas as pd\n",
        "import nltk\n",
        "from nltk.tokenize import word_tokenize\n",
        "from nltk.corpus import stopwords\n",
        "import numpy as np\n",
        "from sklearn.feature_extraction.text import CountVectorizer, TfidfVectorizer\n",
        "\n",
        "nltk.download('punkt')\n",
        "nltk.download('stopwords')\n",
        "\n",
        "# bucket = s3.Bucket('yelp-data-shared-labs18')\n",
        "\n",
        "# print(bucket.contents)\n",
        "\n",
        "\n",
        "# bucket.get('sample_data/review.parquet', 'sample_reviews.parquet')\n",
        "\n",
        "reviews = pd.read_parquet('review.parquet')\n",
        "\n",
        "print(reviews.head())\n",
        "\n",
        "\n",
        "# Tokenizing function\n",
        "def tokenize(s):\n",
        "    \"\"\"Convert string to lowercase and split into words (ignoring\n",
        "    punctuation), returning list of words.\n",
        "    \"\"\"\n",
        "    word_list = re.findall(r'\\w+', s.lower())\n",
        "    filtered_words = [word for word in word_list if word not in stopwords.words('english')]\n",
        "    return filtered_words\n",
        "\n",
        "\n",
        "# Counting ngram function\n",
        "def count_ngrams(lines, min_length=2, max_length=4):\n",
        "    \"\"\"Iterate through given lines iterator (file object or list of\n",
        "    lines) and return n-gram frequencies. The return value is a dict\n",
        "    mapping the length of the n-gram to a collections.Counter\n",
        "    object of n-gram tuple and number of times that n-gram occurred.\n",
        "    Returned dict includes n-grams of length min_length to max_length.\n",
        "    \"\"\"\n",
        "    lengths = range(min_length, max_length + 1)\n",
        "    ngrams = {length: collections.Counter() for length in lengths}\n",
        "    queue = collections.deque(maxlen=max_length)\n",
        "\n",
        "    # Helper function to add n-grams at start of current queue to dict\n",
        "    def add_queue():\n",
        "        current = tuple(queue)\n",
        "        for length in lengths:\n",
        "            if len(current) >= length:\n",
        "                ngrams[length][current[:length]] += 1\n",
        "\n",
        "    # Loop through all lines and words and add n-grams to dict\n",
        "    for line in lines:\n",
        "        for word in tokenize(line):\n",
        "            queue.append(word)\n",
        "            if len(queue) >= max_length:\n",
        "                add_queue()\n",
        "\n",
        "    # Make sure we get the n-grams at the tail end of the queue\n",
        "    while len(queue) > min_length:\n",
        "        queue.popleft()\n",
        "        add_queue()\n",
        "        return ngrams\n",
        "\n",
        "\n",
        "# for most frequent\n",
        "def print_most_frequent(ngrams, num=10):\n",
        "    \"\"\"Print num most common n-grams of each length in n-grams dict.\"\"\"\n",
        "    for n in sorted(ngrams):\n",
        "        print('----- {} most common {}-word phrase -----'.format(num, n))\n",
        "        for gram, count in ngrams[n].most_common(num):\n",
        "            print('{0}: {1}'.format(' '.join(gram), count))\n",
        "        print('')\n",
        "\n",
        "\n",
        "# for word cloud\n",
        "def print_word_cloud(ngrams, num=5):\n",
        "    \"\"\"Print word cloud image plot \"\"\"\n",
        "    words = []\n",
        "    for n in sorted(ngrams):\n",
        "        for gram, count in ngrams[n].most_common(num):\n",
        "            s = ' '.join(gram)\n",
        "            words.append(s)\n",
        "\n",
        "    cloud = WordCloud(width=1440, height=1080, max_words=200).generate(' '.join(words))\n",
        "    plt.figure(figsize=(20, 15))\n",
        "    plt.imshow(cloud)\n",
        "    plt.axis('off');\n",
        "    plt.show()\n",
        "    print('')\n",
        "\n",
        "\n",
        "def vectorize(t):\n",
        "  \"\"\"Vectorize the tokens\"\"\"\n",
        "  # create the transformer TV, set length max_length=zzzz, spacy's vect defaults \n",
        "  TV = TfidfVectorizer()\n",
        "  vect = CountVectorizer()\n",
        "\n",
        "  # tokenize and build vocab\n",
        "  return TV.fit_transform(t)"
      ],
      "execution_count": 1,
      "outputs": [
        {
          "output_type": "stream",
          "text": [
            "[nltk_data] Downloading package punkt to /root/nltk_data...\n",
            "[nltk_data]   Package punkt is already up-to-date!\n",
            "[nltk_data] Downloading package stopwords to /root/nltk_data...\n",
            "[nltk_data]   Package stopwords is already up-to-date!\n",
            "                      review_id  ...                date\n",
            "609090   IfFo03nj-PQGTzTdxH8vWA  ... 2012-12-02 20:46:30\n",
            "6460377  L46X3SlvO88xtlusGr1hFg  ... 2015-01-11 18:53:04\n",
            "562100   EcxvP_LcXS2MGgxvNXwCwg  ... 2018-01-06 06:53:10\n",
            "5339718  a1q77QOPmEJK75FgdfEjDA  ... 2015-05-12 15:25:27\n",
            "2958710  gsPiT4oi6rdj9MZt8rfm7w  ... 2011-07-13 14:11:37\n",
            "\n",
            "[5 rows x 9 columns]\n"
          ],
          "name": "stdout"
        }
      ]
    },
    {
      "cell_type": "code",
      "metadata": {
        "id": "BlWCHMOUa5nS",
        "colab_type": "code",
        "colab": {
          "base_uri": "https://localhost:8080/",
          "height": 289
        },
        "outputId": "33d5f696-0036-4920-e428-2514f10d9a5d"
      },
      "source": [
        "reviews.head()"
      ],
      "execution_count": 2,
      "outputs": [
        {
          "output_type": "execute_result",
          "data": {
            "text/html": [
              "<div>\n",
              "<style scoped>\n",
              "    .dataframe tbody tr th:only-of-type {\n",
              "        vertical-align: middle;\n",
              "    }\n",
              "\n",
              "    .dataframe tbody tr th {\n",
              "        vertical-align: top;\n",
              "    }\n",
              "\n",
              "    .dataframe thead th {\n",
              "        text-align: right;\n",
              "    }\n",
              "</style>\n",
              "<table border=\"1\" class=\"dataframe\">\n",
              "  <thead>\n",
              "    <tr style=\"text-align: right;\">\n",
              "      <th></th>\n",
              "      <th>review_id</th>\n",
              "      <th>user_id</th>\n",
              "      <th>business_id</th>\n",
              "      <th>stars</th>\n",
              "      <th>useful</th>\n",
              "      <th>funny</th>\n",
              "      <th>cool</th>\n",
              "      <th>text</th>\n",
              "      <th>date</th>\n",
              "    </tr>\n",
              "  </thead>\n",
              "  <tbody>\n",
              "    <tr>\n",
              "      <th>609090</th>\n",
              "      <td>IfFo03nj-PQGTzTdxH8vWA</td>\n",
              "      <td>SxrGc9Qv8b_DWo6DZOeyng</td>\n",
              "      <td>FvVSy2r7_zDEhZWqLgjXNQ</td>\n",
              "      <td>3</td>\n",
              "      <td>0</td>\n",
              "      <td>2</td>\n",
              "      <td>0</td>\n",
              "      <td>The food was great no denying that. I'm trying...</td>\n",
              "      <td>2012-12-02 20:46:30</td>\n",
              "    </tr>\n",
              "    <tr>\n",
              "      <th>6460377</th>\n",
              "      <td>L46X3SlvO88xtlusGr1hFg</td>\n",
              "      <td>HOzgd-a-kAiVZappPn5yGA</td>\n",
              "      <td>ERfGoZcgrmF8p89FIs9_TA</td>\n",
              "      <td>5</td>\n",
              "      <td>2</td>\n",
              "      <td>0</td>\n",
              "      <td>1</td>\n",
              "      <td>Delivered as promised, when promised!\\n Excell...</td>\n",
              "      <td>2015-01-11 18:53:04</td>\n",
              "    </tr>\n",
              "    <tr>\n",
              "      <th>562100</th>\n",
              "      <td>EcxvP_LcXS2MGgxvNXwCwg</td>\n",
              "      <td>hmqaQ_60rCJi86ur1kYg8g</td>\n",
              "      <td>m65oi2C7b1CJM7DaXbFi-g</td>\n",
              "      <td>5</td>\n",
              "      <td>2</td>\n",
              "      <td>1</td>\n",
              "      <td>1</td>\n",
              "      <td>Came by again with a friend just to hang out. ...</td>\n",
              "      <td>2018-01-06 06:53:10</td>\n",
              "    </tr>\n",
              "    <tr>\n",
              "      <th>5339718</th>\n",
              "      <td>a1q77QOPmEJK75FgdfEjDA</td>\n",
              "      <td>qAeiX_1IOEjr56QjRjaBxA</td>\n",
              "      <td>RV__lDpb_Vo4SmSL2r5ezA</td>\n",
              "      <td>5</td>\n",
              "      <td>0</td>\n",
              "      <td>1</td>\n",
              "      <td>1</td>\n",
              "      <td>I called Real Fast Auto Glass to get the winds...</td>\n",
              "      <td>2015-05-12 15:25:27</td>\n",
              "    </tr>\n",
              "    <tr>\n",
              "      <th>2958710</th>\n",
              "      <td>gsPiT4oi6rdj9MZt8rfm7w</td>\n",
              "      <td>pFfZdrY_EbDlTxEwKbZl3A</td>\n",
              "      <td>YCoLBgh973QSp-OmnwMWSg</td>\n",
              "      <td>2</td>\n",
              "      <td>2</td>\n",
              "      <td>2</td>\n",
              "      <td>1</td>\n",
              "      <td>Terrible shuttle service, pretty good service ...</td>\n",
              "      <td>2011-07-13 14:11:37</td>\n",
              "    </tr>\n",
              "  </tbody>\n",
              "</table>\n",
              "</div>"
            ],
            "text/plain": [
              "                      review_id  ...                date\n",
              "609090   IfFo03nj-PQGTzTdxH8vWA  ... 2012-12-02 20:46:30\n",
              "6460377  L46X3SlvO88xtlusGr1hFg  ... 2015-01-11 18:53:04\n",
              "562100   EcxvP_LcXS2MGgxvNXwCwg  ... 2018-01-06 06:53:10\n",
              "5339718  a1q77QOPmEJK75FgdfEjDA  ... 2015-05-12 15:25:27\n",
              "2958710  gsPiT4oi6rdj9MZt8rfm7w  ... 2011-07-13 14:11:37\n",
              "\n",
              "[5 rows x 9 columns]"
            ]
          },
          "metadata": {
            "tags": []
          },
          "execution_count": 2
        }
      ]
    },
    {
      "cell_type": "code",
      "metadata": {
        "id": "osll865ADv01",
        "colab_type": "code",
        "colab": {
          "base_uri": "https://localhost:8080/",
          "height": 391
        },
        "outputId": "efaadddb-71ac-4cfe-ba4a-6cbc9b3d4ed3"
      },
      "source": [
        "reviews['review_length'] = reviews['text'].apply(len)\n",
        "reviews['token'] = reviews['text'].apply(tokenize)\n",
        "reviews['token_vector'] = reviews['token'].apply(vectorize)\n",
        "print(\"Tokenized words: \", reviews['token'].head(10))"
      ],
      "execution_count": 3,
      "outputs": [
        {
          "output_type": "error",
          "ename": "ValueError",
          "evalue": "ignored",
          "traceback": [
            "\u001b[0;31m---------------------------------------------------------------------------\u001b[0m",
            "\u001b[0;31mValueError\u001b[0m                                Traceback (most recent call last)",
            "\u001b[0;32m<ipython-input-3-a0e8ab6f7189>\u001b[0m in \u001b[0;36m<module>\u001b[0;34m()\u001b[0m\n\u001b[1;32m      1\u001b[0m \u001b[0mreviews\u001b[0m\u001b[0;34m[\u001b[0m\u001b[0;34m'review_length'\u001b[0m\u001b[0;34m]\u001b[0m \u001b[0;34m=\u001b[0m \u001b[0mreviews\u001b[0m\u001b[0;34m[\u001b[0m\u001b[0;34m'text'\u001b[0m\u001b[0;34m]\u001b[0m\u001b[0;34m.\u001b[0m\u001b[0mapply\u001b[0m\u001b[0;34m(\u001b[0m\u001b[0mlen\u001b[0m\u001b[0;34m)\u001b[0m\u001b[0;34m\u001b[0m\u001b[0;34m\u001b[0m\u001b[0m\n\u001b[1;32m      2\u001b[0m \u001b[0mreviews\u001b[0m\u001b[0;34m[\u001b[0m\u001b[0;34m'token'\u001b[0m\u001b[0;34m]\u001b[0m \u001b[0;34m=\u001b[0m \u001b[0mreviews\u001b[0m\u001b[0;34m[\u001b[0m\u001b[0;34m'text'\u001b[0m\u001b[0;34m]\u001b[0m\u001b[0;34m.\u001b[0m\u001b[0mapply\u001b[0m\u001b[0;34m(\u001b[0m\u001b[0mtokenize\u001b[0m\u001b[0;34m)\u001b[0m\u001b[0;34m\u001b[0m\u001b[0;34m\u001b[0m\u001b[0m\n\u001b[0;32m----> 3\u001b[0;31m \u001b[0mreviews\u001b[0m\u001b[0;34m[\u001b[0m\u001b[0;34m'token_vector'\u001b[0m\u001b[0;34m]\u001b[0m \u001b[0;34m=\u001b[0m \u001b[0mreviews\u001b[0m\u001b[0;34m[\u001b[0m\u001b[0;34m'token'\u001b[0m\u001b[0;34m]\u001b[0m\u001b[0;34m.\u001b[0m\u001b[0mapply\u001b[0m\u001b[0;34m(\u001b[0m\u001b[0mvectorize\u001b[0m\u001b[0;34m)\u001b[0m\u001b[0;34m\u001b[0m\u001b[0;34m\u001b[0m\u001b[0m\n\u001b[0m\u001b[1;32m      4\u001b[0m \u001b[0mprint\u001b[0m\u001b[0;34m(\u001b[0m\u001b[0;34m\"Tokenized words: \"\u001b[0m\u001b[0;34m,\u001b[0m \u001b[0mreviews\u001b[0m\u001b[0;34m[\u001b[0m\u001b[0;34m'token'\u001b[0m\u001b[0;34m]\u001b[0m\u001b[0;34m.\u001b[0m\u001b[0mhead\u001b[0m\u001b[0;34m(\u001b[0m\u001b[0;36m10\u001b[0m\u001b[0;34m)\u001b[0m\u001b[0;34m)\u001b[0m\u001b[0;34m\u001b[0m\u001b[0;34m\u001b[0m\u001b[0m\n",
            "\u001b[0;32m/usr/local/lib/python3.6/dist-packages/pandas/core/series.py\u001b[0m in \u001b[0;36mapply\u001b[0;34m(self, func, convert_dtype, args, **kwds)\u001b[0m\n\u001b[1;32m   4043\u001b[0m             \u001b[0;32melse\u001b[0m\u001b[0;34m:\u001b[0m\u001b[0;34m\u001b[0m\u001b[0;34m\u001b[0m\u001b[0m\n\u001b[1;32m   4044\u001b[0m                 \u001b[0mvalues\u001b[0m \u001b[0;34m=\u001b[0m \u001b[0mself\u001b[0m\u001b[0;34m.\u001b[0m\u001b[0mastype\u001b[0m\u001b[0;34m(\u001b[0m\u001b[0mobject\u001b[0m\u001b[0;34m)\u001b[0m\u001b[0;34m.\u001b[0m\u001b[0mvalues\u001b[0m\u001b[0;34m\u001b[0m\u001b[0;34m\u001b[0m\u001b[0m\n\u001b[0;32m-> 4045\u001b[0;31m                 \u001b[0mmapped\u001b[0m \u001b[0;34m=\u001b[0m \u001b[0mlib\u001b[0m\u001b[0;34m.\u001b[0m\u001b[0mmap_infer\u001b[0m\u001b[0;34m(\u001b[0m\u001b[0mvalues\u001b[0m\u001b[0;34m,\u001b[0m \u001b[0mf\u001b[0m\u001b[0;34m,\u001b[0m \u001b[0mconvert\u001b[0m\u001b[0;34m=\u001b[0m\u001b[0mconvert_dtype\u001b[0m\u001b[0;34m)\u001b[0m\u001b[0;34m\u001b[0m\u001b[0;34m\u001b[0m\u001b[0m\n\u001b[0m\u001b[1;32m   4046\u001b[0m \u001b[0;34m\u001b[0m\u001b[0m\n\u001b[1;32m   4047\u001b[0m         \u001b[0;32mif\u001b[0m \u001b[0mlen\u001b[0m\u001b[0;34m(\u001b[0m\u001b[0mmapped\u001b[0m\u001b[0;34m)\u001b[0m \u001b[0;32mand\u001b[0m \u001b[0misinstance\u001b[0m\u001b[0;34m(\u001b[0m\u001b[0mmapped\u001b[0m\u001b[0;34m[\u001b[0m\u001b[0;36m0\u001b[0m\u001b[0;34m]\u001b[0m\u001b[0;34m,\u001b[0m \u001b[0mSeries\u001b[0m\u001b[0;34m)\u001b[0m\u001b[0;34m:\u001b[0m\u001b[0;34m\u001b[0m\u001b[0;34m\u001b[0m\u001b[0m\n",
            "\u001b[0;32mpandas/_libs/lib.pyx\u001b[0m in \u001b[0;36mpandas._libs.lib.map_infer\u001b[0;34m()\u001b[0m\n",
            "\u001b[0;32m<ipython-input-1-e164d11fc599>\u001b[0m in \u001b[0;36mvectorize\u001b[0;34m(t)\u001b[0m\n\u001b[1;32m    105\u001b[0m \u001b[0;34m\u001b[0m\u001b[0m\n\u001b[1;32m    106\u001b[0m   \u001b[0;31m# tokenize and build vocab\u001b[0m\u001b[0;34m\u001b[0m\u001b[0;34m\u001b[0m\u001b[0;34m\u001b[0m\u001b[0m\n\u001b[0;32m--> 107\u001b[0;31m   \u001b[0;32mreturn\u001b[0m \u001b[0mTV\u001b[0m\u001b[0;34m.\u001b[0m\u001b[0mfit_transform\u001b[0m\u001b[0;34m(\u001b[0m\u001b[0mt\u001b[0m\u001b[0;34m)\u001b[0m\u001b[0;34m\u001b[0m\u001b[0;34m\u001b[0m\u001b[0m\n\u001b[0m",
            "\u001b[0;32m/usr/local/lib/python3.6/dist-packages/sklearn/feature_extraction/text.py\u001b[0m in \u001b[0;36mfit_transform\u001b[0;34m(self, raw_documents, y)\u001b[0m\n\u001b[1;32m   1650\u001b[0m         \"\"\"\n\u001b[1;32m   1651\u001b[0m         \u001b[0mself\u001b[0m\u001b[0;34m.\u001b[0m\u001b[0m_check_params\u001b[0m\u001b[0;34m(\u001b[0m\u001b[0;34m)\u001b[0m\u001b[0;34m\u001b[0m\u001b[0;34m\u001b[0m\u001b[0m\n\u001b[0;32m-> 1652\u001b[0;31m         \u001b[0mX\u001b[0m \u001b[0;34m=\u001b[0m \u001b[0msuper\u001b[0m\u001b[0;34m(\u001b[0m\u001b[0;34m)\u001b[0m\u001b[0;34m.\u001b[0m\u001b[0mfit_transform\u001b[0m\u001b[0;34m(\u001b[0m\u001b[0mraw_documents\u001b[0m\u001b[0;34m)\u001b[0m\u001b[0;34m\u001b[0m\u001b[0;34m\u001b[0m\u001b[0m\n\u001b[0m\u001b[1;32m   1653\u001b[0m         \u001b[0mself\u001b[0m\u001b[0;34m.\u001b[0m\u001b[0m_tfidf\u001b[0m\u001b[0;34m.\u001b[0m\u001b[0mfit\u001b[0m\u001b[0;34m(\u001b[0m\u001b[0mX\u001b[0m\u001b[0;34m)\u001b[0m\u001b[0;34m\u001b[0m\u001b[0;34m\u001b[0m\u001b[0m\n\u001b[1;32m   1654\u001b[0m         \u001b[0;31m# X is already a transformed view of raw_documents so\u001b[0m\u001b[0;34m\u001b[0m\u001b[0;34m\u001b[0m\u001b[0;34m\u001b[0m\u001b[0m\n",
            "\u001b[0;32m/usr/local/lib/python3.6/dist-packages/sklearn/feature_extraction/text.py\u001b[0m in \u001b[0;36mfit_transform\u001b[0;34m(self, raw_documents, y)\u001b[0m\n\u001b[1;32m   1056\u001b[0m \u001b[0;34m\u001b[0m\u001b[0m\n\u001b[1;32m   1057\u001b[0m         vocabulary, X = self._count_vocab(raw_documents,\n\u001b[0;32m-> 1058\u001b[0;31m                                           self.fixed_vocabulary_)\n\u001b[0m\u001b[1;32m   1059\u001b[0m \u001b[0;34m\u001b[0m\u001b[0m\n\u001b[1;32m   1060\u001b[0m         \u001b[0;32mif\u001b[0m \u001b[0mself\u001b[0m\u001b[0;34m.\u001b[0m\u001b[0mbinary\u001b[0m\u001b[0;34m:\u001b[0m\u001b[0;34m\u001b[0m\u001b[0;34m\u001b[0m\u001b[0m\n",
            "\u001b[0;32m/usr/local/lib/python3.6/dist-packages/sklearn/feature_extraction/text.py\u001b[0m in \u001b[0;36m_count_vocab\u001b[0;34m(self, raw_documents, fixed_vocab)\u001b[0m\n\u001b[1;32m    987\u001b[0m             \u001b[0mvocabulary\u001b[0m \u001b[0;34m=\u001b[0m \u001b[0mdict\u001b[0m\u001b[0;34m(\u001b[0m\u001b[0mvocabulary\u001b[0m\u001b[0;34m)\u001b[0m\u001b[0;34m\u001b[0m\u001b[0;34m\u001b[0m\u001b[0m\n\u001b[1;32m    988\u001b[0m             \u001b[0;32mif\u001b[0m \u001b[0;32mnot\u001b[0m \u001b[0mvocabulary\u001b[0m\u001b[0;34m:\u001b[0m\u001b[0;34m\u001b[0m\u001b[0;34m\u001b[0m\u001b[0m\n\u001b[0;32m--> 989\u001b[0;31m                 raise ValueError(\"empty vocabulary; perhaps the documents only\"\n\u001b[0m\u001b[1;32m    990\u001b[0m                                  \" contain stop words\")\n\u001b[1;32m    991\u001b[0m \u001b[0;34m\u001b[0m\u001b[0m\n",
            "\u001b[0;31mValueError\u001b[0m: empty vocabulary; perhaps the documents only contain stop words"
          ]
        }
      ]
    },
    {
      "cell_type": "code",
      "metadata": {
        "id": "oyRRjK1bFcq6",
        "colab_type": "code",
        "colab": {}
      },
      "source": [
        "text = reviews['text']"
      ],
      "execution_count": 0,
      "outputs": []
    },
    {
      "cell_type": "code",
      "metadata": {
        "id": "8tMwsPVUW9ae",
        "colab_type": "code",
        "colab": {}
      },
      "source": [
        "bob = \"Bob the builder is cool and he has many friends that accompany him.\""
      ],
      "execution_count": 0,
      "outputs": []
    },
    {
      "cell_type": "code",
      "metadata": {
        "id": "1xwiycDFXDxP",
        "colab_type": "code",
        "colab": {
          "base_uri": "https://localhost:8080/",
          "height": 34
        },
        "outputId": "cee4396d-ec65-486a-dbc1-e0e009465a66"
      },
      "source": [
        "tokenize(bob)"
      ],
      "execution_count": 46,
      "outputs": [
        {
          "output_type": "execute_result",
          "data": {
            "text/plain": [
              "['bob', 'builder', 'cool', 'many', 'friends', 'accompany']"
            ]
          },
          "metadata": {
            "tags": []
          },
          "execution_count": 46
        }
      ]
    },
    {
      "cell_type": "code",
      "metadata": {
        "id": "eXC-ELvCggq2",
        "colab_type": "code",
        "colab": {
          "base_uri": "https://localhost:8080/",
          "height": 221
        },
        "outputId": "f1ff343c-f8d7-4682-bcec-9ec927b71170"
      },
      "source": [
        "text.apply(tokenize)"
      ],
      "execution_count": 48,
      "outputs": [
        {
          "output_type": "execute_result",
          "data": {
            "text/plain": [
              "609090     [food, great, denying, trying, cut, salt, inta...\n",
              "6460377    [delivered, promised, promised, excellent, cus...\n",
              "562100     [came, friend, hang, really, seem, like, fixed...\n",
              "5339718    [called, real, fast, auto, glass, get, windshi...\n",
              "2958710    [terrible, shuttle, service, pretty, good, ser...\n",
              "                                 ...                        \n",
              "3876331    [hearing, place, fiance, years, last, week, fi...\n",
              "4899563    [coupon, 17, 99, decided, worth, try, told, 1,...\n",
              "6383042    [place, killer, staff, awesome, menu, unreal, ...\n",
              "2167329    [love, grounds, surround, franciscan, renewal,...\n",
              "4647154    [phenomenal, mexican, restaurant, great, servi...\n",
              "Name: text, Length: 26744, dtype: object"
            ]
          },
          "metadata": {
            "tags": []
          },
          "execution_count": 48
        }
      ]
    },
    {
      "cell_type": "code",
      "metadata": {
        "id": "dtDnw3m5kf-E",
        "colab_type": "code",
        "colab": {
          "base_uri": "https://localhost:8080/",
          "height": 221
        },
        "outputId": "440b1954-79bc-4adf-8c90-20df7161ba58"
      },
      "source": [
        "reviews['text'].apply(tokenize)"
      ],
      "execution_count": 56,
      "outputs": [
        {
          "output_type": "execute_result",
          "data": {
            "text/plain": [
              "609090     [food, great, denying, trying, cut, salt, inta...\n",
              "6460377    [delivered, promised, promised, excellent, cus...\n",
              "562100     [came, friend, hang, really, seem, like, fixed...\n",
              "5339718    [called, real, fast, auto, glass, get, windshi...\n",
              "2958710    [terrible, shuttle, service, pretty, good, ser...\n",
              "                                 ...                        \n",
              "3876331    [hearing, place, fiance, years, last, week, fi...\n",
              "4899563    [coupon, 17, 99, decided, worth, try, told, 1,...\n",
              "6383042    [place, killer, staff, awesome, menu, unreal, ...\n",
              "2167329    [love, grounds, surround, franciscan, renewal,...\n",
              "4647154    [phenomenal, mexican, restaurant, great, servi...\n",
              "Name: text, Length: 26744, dtype: object"
            ]
          },
          "metadata": {
            "tags": []
          },
          "execution_count": 56
        }
      ]
    },
    {
      "cell_type": "code",
      "metadata": {
        "id": "ZOvm-TBZ3W0_",
        "colab_type": "code",
        "colab": {
          "base_uri": "https://localhost:8080/",
          "height": 51
        },
        "outputId": "5e176c14-36d5-42bc-8e99-de1921d52df9"
      },
      "source": [
        "vectorize(tokenize(bob))"
      ],
      "execution_count": 40,
      "outputs": [
        {
          "output_type": "execute_result",
          "data": {
            "text/plain": [
              "<6x6 sparse matrix of type '<class 'numpy.int64'>'\n",
              "\twith 6 stored elements in Compressed Sparse Row format>"
            ]
          },
          "metadata": {
            "tags": []
          },
          "execution_count": 40
        }
      ]
    },
    {
      "cell_type": "code",
      "metadata": {
        "id": "Ljnao7PDdSDm",
        "colab_type": "code",
        "colab": {}
      },
      "source": [
        "reviews['text'].apply(vectorize)"
      ],
      "execution_count": 0,
      "outputs": []
    },
    {
      "cell_type": "code",
      "metadata": {
        "id": "RiVkdiJJiNGw",
        "colab_type": "code",
        "colab": {
          "base_uri": "https://localhost:8080/",
          "height": 51
        },
        "outputId": "e52414a7-c33d-4cf6-fdb9-2651122a703a"
      },
      "source": [
        "vectorize(reviews.text)"
      ],
      "execution_count": 63,
      "outputs": [
        {
          "output_type": "execute_result",
          "data": {
            "text/plain": [
              "<26744x43351 sparse matrix of type '<class 'numpy.float64'>'\n",
              "\twith 1904766 stored elements in Compressed Sparse Row format>"
            ]
          },
          "metadata": {
            "tags": []
          },
          "execution_count": 63
        }
      ]
    },
    {
      "cell_type": "markdown",
      "metadata": {
        "id": "AGqppFqUcwOp",
        "colab_type": "text"
      },
      "source": [
        "Every row in review.tokens will be a sparse matrix \n"
      ]
    }
  ]
}