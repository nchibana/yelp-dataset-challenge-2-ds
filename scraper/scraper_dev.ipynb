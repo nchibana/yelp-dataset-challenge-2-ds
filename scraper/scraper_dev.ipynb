{
 "cells": [
  {
   "cell_type": "markdown",
   "metadata": {},
   "source": [
    "# Yelp Scraper Part I\n",
    "\n",
    "Development notebook for business URI search and lens enhancement engine."
   ]
  },
  {
   "cell_type": "markdown",
   "metadata": {},
   "source": [
    "## Database Setup\n",
    "\n",
    "Rather than attempt to keep information globally shared between modules database or messenger/caching services will be used.  For V0.1, an sqlilte implementation is planned.  "
   ]
  },
  {
   "cell_type": "code",
   "execution_count": null,
   "metadata": {},
   "outputs": [],
   "source": [
    "# Initialize Database\n",
    "from db import get_db, get_session, init_db\n",
    "\n",
    "init_db()  # Creates tables/relationships"
   ]
  },
  {
   "cell_type": "code",
   "execution_count": null,
   "metadata": {},
   "outputs": [],
   "source": []
  },
  {
   "cell_type": "markdown",
   "metadata": {},
   "source": [
    "## Lens\n",
    "\n",
    "Lens is a handler of simple perceptron networks whose goal it is to create predictions (forward passes) of expected number of businesses within an area.  The Yelp API will only give a maxiumum of 50 businesses per search.  Lens helps tune the jump distance as the scraper adjusts longitude and lattitude while searching.\n",
    "\n",
    "Two approaches will be investigated:\n",
    "\n",
    "1. Attempt to predict the number of businesses in a given area.\n",
    "\n",
    "2. Attempt to predict the number of NEW businesses in a given area.\n",
    "\n",
    "V0.1 will look at the first strategy."
   ]
  },
  {
   "cell_type": "code",
   "execution_count": 1,
   "metadata": {},
   "outputs": [],
   "source": [
    "from lens import fastmap"
   ]
  },
  {
   "cell_type": "markdown",
   "metadata": {},
   "source": [
    "### Create, train, and update a perceptron\n",
    "\n",
    "The layer initialization step can be skipped by passing in a new y-vector (in our case, updated data from nearby zones.\n",
    "\n",
    "> V0.1 will not use update as some type of copy_on_complete mechanism will be needed.  More logic to ensure that the quality, relations of and in y_train don't deviate significantly.  Otherwise, more training may have to be done to 'undo' bad weights. "
   ]
  },
  {
   "cell_type": "code",
   "execution_count": 2,
   "metadata": {},
   "outputs": [],
   "source": [
    "# Test Data\n",
    "import numpy as np\n",
    "X=np.array([[0,1,2], [3,4,5], [6,7,8]])\n",
    "y=np.array([0.5,0.65,1])\n",
    "\n",
    "model_map = fastmap.ModelMap()"
   ]
  },
  {
   "cell_type": "code",
   "execution_count": 3,
   "metadata": {},
   "outputs": [
    {
     "data": {
      "text/plain": [
       "{'geohash': 'set3f8vk6wjr',\n",
       " 'radius': 1,\n",
       " 'file_location': '/tmp/set3f8vk6wjr.pkl'}"
      ]
     },
     "execution_count": 3,
     "metadata": {},
     "output_type": "execute_result"
    }
   ],
   "source": [
    "model_map.pin_model(X, y, (20,30))"
   ]
  },
  {
   "cell_type": "markdown",
   "metadata": {},
   "source": [
    "**At this point,** the model is ready for use.  The returned information needs to be stored so predictions can be called when needed."
   ]
  },
  {
   "cell_type": "code",
   "execution_count": null,
   "metadata": {},
   "outputs": [],
   "source": []
  }
 ],
 "metadata": {
  "kernelspec": {
   "display_name": "Python 3",
   "language": "python",
   "name": "python3"
  },
  "language_info": {
   "codemirror_mode": {
    "name": "ipython",
    "version": 3
   },
   "file_extension": ".py",
   "mimetype": "text/x-python",
   "name": "python",
   "nbconvert_exporter": "python",
   "pygments_lexer": "ipython3",
   "version": "3.7.4"
  }
 },
 "nbformat": 4,
 "nbformat_minor": 2
}
