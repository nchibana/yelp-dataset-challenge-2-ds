{
 "cells": [
  {
   "cell_type": "markdown",
   "metadata": {},
   "source": [
    "# Yelp Scraper Part I\n",
    "\n",
    "Development notebook for business URI search and lens enhancement engine."
   ]
  },
  {
   "cell_type": "markdown",
   "metadata": {},
   "source": [
    "## Database Setup\n",
    "\n",
    "Rather than attempt to keep information globally shared between modules database or messenger/caching services will be used.  For V0.1, an sqlilte implementation is planned.  "
   ]
  },
  {
   "cell_type": "code",
   "execution_count": null,
   "metadata": {},
   "outputs": [],
   "source": [
    "# Initialize Database\n",
    "from db import get_db, get_session, init_db\n",
    "\n",
    "init_db()  # Creates tables/relationships"
   ]
  },
  {
   "cell_type": "markdown",
   "metadata": {},
   "source": [
    "## Yelp Fusion Client\n",
    "\n",
    "This module uses the yelpapi library to manage connections and requests to Yelp's Fusion API."
   ]
  },
  {
   "cell_type": "code",
   "execution_count": 3,
   "metadata": {},
   "outputs": [
    {
     "name": "stdout",
     "output_type": "stream",
     "text": [
      "Environment variables set.\n"
     ]
    }
   ],
   "source": [
    "from scraper_1_urls import load_environment, get_client\n",
    "\n",
    "load_environment(from_file=True)\n",
    "client = get_client()"
   ]
  },
  {
   "cell_type": "code",
   "execution_count": null,
   "metadata": {},
   "outputs": [],
   "source": []
  },
  {
   "cell_type": "markdown",
   "metadata": {},
   "source": [
    "## Lens\n",
    "\n",
    "Lens is a handler of simple perceptron networks whose goal it is to create predictions (forward passes) of expected number of businesses within an area.  The Yelp API will only give a maxiumum of 50 businesses per search.  Lens helps tune the jump distance as the scraper adjusts longitude and lattitude while searching.\n",
    "\n",
    "Two approaches will be investigated:\n",
    "\n",
    "1. Attempt to predict the number of businesses in a given area.\n",
    "\n",
    "2. Attempt to predict the number of NEW businesses in a given area.\n",
    "\n",
    "V0.1 will look at the first strategy."
   ]
  },
  {
   "cell_type": "code",
   "execution_count": 1,
   "metadata": {},
   "outputs": [],
   "source": [
    "from lens import fastmap"
   ]
  },
  {
   "cell_type": "markdown",
   "metadata": {},
   "source": [
    "### Create, train, and update a perceptron\n",
    "\n",
    "The layer initialization step can be skipped by passing in a new y-vector (in our case, updated data from nearby zones.\n",
    "\n",
    "> V0.1 will not use update as some type of copy_on_complete mechanism will be needed.  More logic to ensure that the quality, relations of and in y_train don't deviate significantly.  Otherwise, more training may have to be done to 'undo' bad weights. "
   ]
  },
  {
   "cell_type": "code",
   "execution_count": 2,
   "metadata": {},
   "outputs": [],
   "source": [
    "# Test Data\n",
    "import numpy as np\n",
    "X=np.array([[0,1,2], [3,4,5], [6,7,8]])\n",
    "y=np.array([0.5,0.65,1])\n",
    "\n",
    "model_map = fastmap.ModelMap()"
   ]
  },
  {
   "cell_type": "code",
   "execution_count": 3,
   "metadata": {},
   "outputs": [
    {
     "data": {
      "text/plain": [
       "{'geohash': 'set3f8vk6wjr', 'file_location': '/tmp/set3f8vk6wjr.pkl'}"
      ]
     },
     "execution_count": 3,
     "metadata": {},
     "output_type": "execute_result"
    }
   ],
   "source": [
    "model_map.pin_model(X, y, (20,30))"
   ]
  },
  {
   "cell_type": "code",
   "execution_count": null,
   "metadata": {},
   "outputs": [],
   "source": []
  },
  {
   "cell_type": "markdown",
   "metadata": {},
   "source": [
    "**At this point,** the model is ready for use.  The returned information needs to be stored so predictions can be called when needed."
   ]
  },
  {
   "cell_type": "markdown",
   "metadata": {},
   "source": [
    "## Get All Categories by Country\n",
    "\n",
    "To help limit and organize the search, as well as provide better data to Lens as the search progresses, we will search by category in each direction (scraper path).\n",
    "\n",
    "Yelp provides a json download with all their categories [here](https://www.yelp.com/developers/documentation/v3/all_category_list/categories.json)"
   ]
  },
  {
   "cell_type": "code",
   "execution_count": 1,
   "metadata": {},
   "outputs": [],
   "source": [
    "# Load data\n",
    "import json\n",
    "\n",
    "with open('categories.json', 'r') as file:\n",
    "    categories = json.load(file)"
   ]
  },
  {
   "cell_type": "code",
   "execution_count": 2,
   "metadata": {},
   "outputs": [
    {
     "data": {
      "text/plain": [
       "1565"
      ]
     },
     "execution_count": 2,
     "metadata": {},
     "output_type": "execute_result"
    }
   ],
   "source": [
    "len(categories)"
   ]
  },
  {
   "cell_type": "code",
   "execution_count": 22,
   "metadata": {},
   "outputs": [],
   "source": [
    "# Get all parent categories\n",
    "def get_countries(category):\n",
    "    if 'country_whitelist' in category.keys():\n",
    "        countries = category['country_whitelist']\n",
    "        return countries\n",
    "    return ['ALL']\n",
    "\n",
    "def get_parents(category):\n",
    "    parent = category['parents']\n",
    "    parents = []\n",
    "    if len(parent) > 1:\n",
    "        for item in parent:\n",
    "            if type(item) == str:\n",
    "                parents.append(item)\n",
    "    elif len(parent) == 1:\n",
    "            parents.append(parent[0])\n",
    "    return parents\n",
    "\n",
    "countries = list(map(get_countries, categories))\n",
    "parents = list(map(get_parents, categories))\n",
    "data = {'parent':parents, 'country':countries}"
   ]
  },
  {
   "cell_type": "code",
   "execution_count": 23,
   "metadata": {},
   "outputs": [
    {
     "data": {
      "text/html": [
       "<div>\n",
       "<style scoped>\n",
       "    .dataframe tbody tr th:only-of-type {\n",
       "        vertical-align: middle;\n",
       "    }\n",
       "\n",
       "    .dataframe tbody tr th {\n",
       "        vertical-align: top;\n",
       "    }\n",
       "\n",
       "    .dataframe thead th {\n",
       "        text-align: right;\n",
       "    }\n",
       "</style>\n",
       "<table border=\"1\" class=\"dataframe\">\n",
       "  <thead>\n",
       "    <tr style=\"text-align: right;\">\n",
       "      <th></th>\n",
       "      <th>parent</th>\n",
       "      <th>country</th>\n",
       "    </tr>\n",
       "  </thead>\n",
       "  <tbody>\n",
       "    <tr>\n",
       "      <th>0</th>\n",
       "      <td>[localservices]</td>\n",
       "      <td>[ALL]</td>\n",
       "    </tr>\n",
       "    <tr>\n",
       "      <th>1</th>\n",
       "      <td>[italian]</td>\n",
       "      <td>[IT]</td>\n",
       "    </tr>\n",
       "    <tr>\n",
       "      <th>2</th>\n",
       "      <td>[bars]</td>\n",
       "      <td>[CZ]</td>\n",
       "    </tr>\n",
       "    <tr>\n",
       "      <th>3</th>\n",
       "      <td>[food]</td>\n",
       "      <td>[ALL]</td>\n",
       "    </tr>\n",
       "    <tr>\n",
       "      <th>4</th>\n",
       "      <td>[fashion]</td>\n",
       "      <td>[ALL]</td>\n",
       "    </tr>\n",
       "  </tbody>\n",
       "</table>\n",
       "</div>"
      ],
      "text/plain": [
       "            parent country\n",
       "0  [localservices]   [ALL]\n",
       "1        [italian]    [IT]\n",
       "2           [bars]    [CZ]\n",
       "3           [food]   [ALL]\n",
       "4        [fashion]   [ALL]"
      ]
     },
     "execution_count": 23,
     "metadata": {},
     "output_type": "execute_result"
    }
   ],
   "source": [
    "# Build a dataframe with parent data for starters\n",
    "import pandas as pd\n",
    "\n",
    "df = pd.DataFrame(data=data)\n",
    "df.head(5)"
   ]
  },
  {
   "cell_type": "code",
   "execution_count": 24,
   "metadata": {
    "scrolled": true
   },
   "outputs": [
    {
     "data": {
      "text/html": [
       "<div>\n",
       "<style scoped>\n",
       "    .dataframe tbody tr th:only-of-type {\n",
       "        vertical-align: middle;\n",
       "    }\n",
       "\n",
       "    .dataframe tbody tr th {\n",
       "        vertical-align: top;\n",
       "    }\n",
       "\n",
       "    .dataframe thead th {\n",
       "        text-align: right;\n",
       "    }\n",
       "</style>\n",
       "<table border=\"1\" class=\"dataframe\">\n",
       "  <thead>\n",
       "    <tr style=\"text-align: right;\">\n",
       "      <th></th>\n",
       "      <th>parent</th>\n",
       "      <th>country</th>\n",
       "    </tr>\n",
       "  </thead>\n",
       "  <tbody>\n",
       "    <tr>\n",
       "      <th>0</th>\n",
       "      <td>localservices</td>\n",
       "      <td>ALL</td>\n",
       "    </tr>\n",
       "    <tr>\n",
       "      <th>1</th>\n",
       "      <td>italian</td>\n",
       "      <td>IT</td>\n",
       "    </tr>\n",
       "    <tr>\n",
       "      <th>2</th>\n",
       "      <td>bars</td>\n",
       "      <td>CZ</td>\n",
       "    </tr>\n",
       "    <tr>\n",
       "      <th>3</th>\n",
       "      <td>food</td>\n",
       "      <td>ALL</td>\n",
       "    </tr>\n",
       "    <tr>\n",
       "      <th>4</th>\n",
       "      <td>fashion</td>\n",
       "      <td>ALL</td>\n",
       "    </tr>\n",
       "  </tbody>\n",
       "</table>\n",
       "</div>"
      ],
      "text/plain": [
       "          parent country\n",
       "0  localservices     ALL\n",
       "1        italian      IT\n",
       "2           bars      CZ\n",
       "3           food     ALL\n",
       "4        fashion     ALL"
      ]
     },
     "metadata": {},
     "output_type": "display_data"
    },
    {
     "data": {
      "text/html": [
       "<div>\n",
       "<style scoped>\n",
       "    .dataframe tbody tr th:only-of-type {\n",
       "        vertical-align: middle;\n",
       "    }\n",
       "\n",
       "    .dataframe tbody tr th {\n",
       "        vertical-align: top;\n",
       "    }\n",
       "\n",
       "    .dataframe thead th {\n",
       "        text-align: right;\n",
       "    }\n",
       "</style>\n",
       "<table border=\"1\" class=\"dataframe\">\n",
       "  <thead>\n",
       "    <tr style=\"text-align: right;\">\n",
       "      <th></th>\n",
       "      <th>parent</th>\n",
       "      <th>country</th>\n",
       "    </tr>\n",
       "  </thead>\n",
       "  <tbody>\n",
       "    <tr>\n",
       "      <th>count</th>\n",
       "      <td>4102</td>\n",
       "      <td>4127</td>\n",
       "    </tr>\n",
       "    <tr>\n",
       "      <th>unique</th>\n",
       "      <td>121</td>\n",
       "      <td>34</td>\n",
       "    </tr>\n",
       "    <tr>\n",
       "      <th>top</th>\n",
       "      <td>restaurants</td>\n",
       "      <td>ALL</td>\n",
       "    </tr>\n",
       "    <tr>\n",
       "      <th>freq</th>\n",
       "      <td>502</td>\n",
       "      <td>1084</td>\n",
       "    </tr>\n",
       "  </tbody>\n",
       "</table>\n",
       "</div>"
      ],
      "text/plain": [
       "             parent country\n",
       "count          4102    4127\n",
       "unique          121      34\n",
       "top     restaurants     ALL\n",
       "freq            502    1084"
      ]
     },
     "metadata": {},
     "output_type": "display_data"
    }
   ],
   "source": [
    "# Explode each column\n",
    "df = df.explode('parent')\n",
    "df = df.explode('country')\n",
    "display(df.head(), df.describe())"
   ]
  },
  {
   "cell_type": "code",
   "execution_count": 28,
   "metadata": {},
   "outputs": [
    {
     "data": {
      "text/html": [
       "<div>\n",
       "<style scoped>\n",
       "    .dataframe tbody tr th:only-of-type {\n",
       "        vertical-align: middle;\n",
       "    }\n",
       "\n",
       "    .dataframe tbody tr th {\n",
       "        vertical-align: top;\n",
       "    }\n",
       "\n",
       "    .dataframe thead th {\n",
       "        text-align: right;\n",
       "    }\n",
       "</style>\n",
       "<table border=\"1\" class=\"dataframe\">\n",
       "  <thead>\n",
       "    <tr style=\"text-align: right;\">\n",
       "      <th></th>\n",
       "      <th>parent</th>\n",
       "      <th>country</th>\n",
       "    </tr>\n",
       "  </thead>\n",
       "  <tbody>\n",
       "    <tr>\n",
       "      <th>count</th>\n",
       "      <td>4102</td>\n",
       "      <td>4102</td>\n",
       "    </tr>\n",
       "    <tr>\n",
       "      <th>unique</th>\n",
       "      <td>121</td>\n",
       "      <td>34</td>\n",
       "    </tr>\n",
       "    <tr>\n",
       "      <th>top</th>\n",
       "      <td>restaurants</td>\n",
       "      <td>ALL</td>\n",
       "    </tr>\n",
       "    <tr>\n",
       "      <th>freq</th>\n",
       "      <td>502</td>\n",
       "      <td>1063</td>\n",
       "    </tr>\n",
       "  </tbody>\n",
       "</table>\n",
       "</div>"
      ],
      "text/plain": [
       "             parent country\n",
       "count          4102    4102\n",
       "unique          121      34\n",
       "top     restaurants     ALL\n",
       "freq            502    1063"
      ]
     },
     "execution_count": 28,
     "metadata": {},
     "output_type": "execute_result"
    }
   ],
   "source": [
    "# Clean data\n",
    "df = df.dropna()\n",
    "df.describe()"
   ]
  },
  {
   "cell_type": "code",
   "execution_count": 36,
   "metadata": {},
   "outputs": [
    {
     "name": "stdout",
     "output_type": "stream",
     "text": [
      "\r",
      "parent_categories_by_country.json  157156 / 157156.0  (100.00%)"
     ]
    }
   ],
   "source": [
    "# Save Data\n",
    "from awstools import s3\n",
    "\n",
    "# Setup bucket link to AWS\n",
    "bucket = s3.Bucket('yelp-data-shared-labs18')\n",
    "\n",
    "# Save locally\n",
    "filename = 'parent_categories_by_country.json'\n",
    "df.to_json(filename, orient='records')\n",
    "\n",
    "# Upload to S3 bucket\n",
    "bucket.save(filename, 'Tables/'+filename)"
   ]
  },
  {
   "cell_type": "code",
   "execution_count": null,
   "metadata": {},
   "outputs": [],
   "source": []
  }
 ],
 "metadata": {
  "kernelspec": {
   "display_name": "Python 3",
   "language": "python",
   "name": "python3"
  },
  "language_info": {
   "codemirror_mode": {
    "name": "ipython",
    "version": 3
   },
   "file_extension": ".py",
   "mimetype": "text/x-python",
   "name": "python",
   "nbconvert_exporter": "python",
   "pygments_lexer": "ipython3",
   "version": "3.7.5"
  }
 },
 "nbformat": 4,
 "nbformat_minor": 2
}
