{
 "cells": [
  {
   "cell_type": "markdown",
   "metadata": {},
   "source": [
    "# Yelp Scraper Part I\n",
    "\n",
    "Development notebook for business URI search and lens enhancement engine."
   ]
  },
  {
   "cell_type": "markdown",
   "metadata": {},
   "source": [
    "## Database Setup\n",
    "\n",
    "Rather than attempt to keep information globally shared between modules database or messenger/caching services will be used.  For V0.1, an sqlilte implementation is planned.  "
   ]
  },
  {
   "cell_type": "code",
   "execution_count": null,
   "metadata": {},
   "outputs": [],
   "source": [
    "# Initialize Database\n",
    "from db import get_db, get_session, init_db\n",
    "\n",
    "init_db()  # Creates tables/relationships"
   ]
  },
  {
   "cell_type": "markdown",
   "metadata": {},
   "source": [
    "## Yelp Fusion Client\n",
    "\n",
    "This module uses the yelpapi library to manage connections and requests to Yelp's Fusion API."
   ]
  },
  {
   "cell_type": "code",
   "execution_count": 3,
   "metadata": {},
   "outputs": [
    {
     "name": "stdout",
     "output_type": "stream",
     "text": [
      "Environment variables set.\n"
     ]
    }
   ],
   "source": [
    "from scraper_1_urls import load_environment, get_client\n",
    "\n",
    "load_environment(from_file=True)\n",
    "client = get_client()"
   ]
  },
  {
   "cell_type": "code",
   "execution_count": null,
   "metadata": {},
   "outputs": [],
   "source": []
  },
  {
   "cell_type": "markdown",
   "metadata": {},
   "source": [
    "## Lens\n",
    "\n",
    "Lens is a handler of simple perceptron networks whose goal it is to create predictions (forward passes) of expected number of businesses within an area.  The Yelp API will only give a maxiumum of 50 businesses per search.  Lens helps tune the jump distance as the scraper adjusts longitude and lattitude while searching.\n",
    "\n",
    "Two approaches will be investigated:\n",
    "\n",
    "1. Attempt to predict the number of businesses in a given area.\n",
    "\n",
    "2. Attempt to predict the number of NEW businesses in a given area.\n",
    "\n",
    "V0.1 will look at the first strategy."
   ]
  },
  {
   "cell_type": "code",
   "execution_count": 1,
   "metadata": {},
   "outputs": [],
   "source": [
    "from lens import fastmap"
   ]
  },
  {
   "cell_type": "markdown",
   "metadata": {},
   "source": [
    "### Create, train, and update a perceptron\n",
    "\n",
    "The layer initialization step can be skipped by passing in a new y-vector (in our case, updated data from nearby zones.\n",
    "\n",
    "> V0.1 will not use update as some type of copy_on_complete mechanism will be needed.  More logic to ensure that the quality, relations of and in y_train don't deviate significantly.  Otherwise, more training may have to be done to 'undo' bad weights. "
   ]
  },
  {
   "cell_type": "code",
   "execution_count": 2,
   "metadata": {},
   "outputs": [],
   "source": [
    "# Test Data\n",
    "import numpy as np\n",
    "X=np.array([[0,1,2], [3,4,5], [6,7,8]])\n",
    "y=np.array([0.5,0.65,1])\n",
    "\n",
    "model_map = fastmap.ModelMap()"
   ]
  },
  {
   "cell_type": "code",
   "execution_count": 3,
   "metadata": {},
   "outputs": [
    {
     "data": {
      "text/plain": [
       "{'geohash': 'set3f8vk6wjr', 'file_location': '/tmp/set3f8vk6wjr.pkl'}"
      ]
     },
     "execution_count": 3,
     "metadata": {},
     "output_type": "execute_result"
    }
   ],
   "source": [
    "model_map.pin_model(X, y, (20,30))"
   ]
  },
  {
   "cell_type": "code",
   "execution_count": null,
   "metadata": {},
   "outputs": [],
   "source": []
  },
  {
   "cell_type": "markdown",
   "metadata": {},
   "source": [
    "**At this point,** the model is ready for use.  The returned information needs to be stored so predictions can be called when needed."
   ]
  },
  {
   "cell_type": "markdown",
   "metadata": {},
   "source": [
    "## Get All Categories by Country\n",
    "\n",
    "To help limit and organize the search, as well as provide better data to Lens as the search progresses, we will search by category in each direction (scraper path).\n",
    "\n",
    "Yelp provides a json download with all their categories [here](https://www.yelp.com/developers/documentation/v3/all_category_list/categories.json)"
   ]
  },
  {
   "cell_type": "code",
   "execution_count": 1,
   "metadata": {},
   "outputs": [],
   "source": [
    "# Load data\n",
    "import json\n",
    "\n",
    "with open('categories.json', 'r') as file:\n",
    "    categories = json.load(file)"
   ]
  },
  {
   "cell_type": "code",
   "execution_count": 2,
   "metadata": {},
   "outputs": [
    {
     "data": {
      "text/plain": [
       "1565"
      ]
     },
     "execution_count": 2,
     "metadata": {},
     "output_type": "execute_result"
    }
   ],
   "source": [
    "len(categories)"
   ]
  },
  {
   "cell_type": "code",
   "execution_count": 22,
   "metadata": {},
   "outputs": [],
   "source": [
    "# Get all parent categories\n",
    "def get_countries(category):\n",
    "    if 'country_whitelist' in category.keys():\n",
    "        countries = category['country_whitelist']\n",
    "        return countries\n",
    "    return ['ALL']\n",
    "\n",
    "def get_parents(category):\n",
    "    parent = category['parents']\n",
    "    parents = []\n",
    "    if len(parent) > 1:\n",
    "        for item in parent:\n",
    "            if type(item) == str:\n",
    "                parents.append(item)\n",
    "    elif len(parent) == 1:\n",
    "            parents.append(parent[0])\n",
    "    return parents\n",
    "\n",
    "countries = list(map(get_countries, categories))\n",
    "parents = list(map(get_parents, categories))\n",
    "data = {'parent':parents, 'country':countries}"
   ]
  },
  {
   "cell_type": "code",
   "execution_count": 23,
   "metadata": {},
   "outputs": [
    {
     "data": {
      "text/html": [
       "<div>\n",
       "<style scoped>\n",
       "    .dataframe tbody tr th:only-of-type {\n",
       "        vertical-align: middle;\n",
       "    }\n",
       "\n",
       "    .dataframe tbody tr th {\n",
       "        vertical-align: top;\n",
       "    }\n",
       "\n",
       "    .dataframe thead th {\n",
       "        text-align: right;\n",
       "    }\n",
       "</style>\n",
       "<table border=\"1\" class=\"dataframe\">\n",
       "  <thead>\n",
       "    <tr style=\"text-align: right;\">\n",
       "      <th></th>\n",
       "      <th>parent</th>\n",
       "      <th>country</th>\n",
       "    </tr>\n",
       "  </thead>\n",
       "  <tbody>\n",
       "    <tr>\n",
       "      <th>0</th>\n",
       "      <td>[localservices]</td>\n",
       "      <td>[ALL]</td>\n",
       "    </tr>\n",
       "    <tr>\n",
       "      <th>1</th>\n",
       "      <td>[italian]</td>\n",
       "      <td>[IT]</td>\n",
       "    </tr>\n",
       "    <tr>\n",
       "      <th>2</th>\n",
       "      <td>[bars]</td>\n",
       "      <td>[CZ]</td>\n",
       "    </tr>\n",
       "    <tr>\n",
       "      <th>3</th>\n",
       "      <td>[food]</td>\n",
       "      <td>[ALL]</td>\n",
       "    </tr>\n",
       "    <tr>\n",
       "      <th>4</th>\n",
       "      <td>[fashion]</td>\n",
       "      <td>[ALL]</td>\n",
       "    </tr>\n",
       "  </tbody>\n",
       "</table>\n",
       "</div>"
      ],
      "text/plain": [
       "            parent country\n",
       "0  [localservices]   [ALL]\n",
       "1        [italian]    [IT]\n",
       "2           [bars]    [CZ]\n",
       "3           [food]   [ALL]\n",
       "4        [fashion]   [ALL]"
      ]
     },
     "execution_count": 23,
     "metadata": {},
     "output_type": "execute_result"
    }
   ],
   "source": [
    "# Build a dataframe with parent data for starters\n",
    "import pandas as pd\n",
    "\n",
    "df = pd.DataFrame(data=data)\n",
    "df.head(5)"
   ]
  },
  {
   "cell_type": "code",
   "execution_count": 24,
   "metadata": {
    "scrolled": true
   },
   "outputs": [
    {
     "data": {
      "text/html": [
       "<div>\n",
       "<style scoped>\n",
       "    .dataframe tbody tr th:only-of-type {\n",
       "        vertical-align: middle;\n",
       "    }\n",
       "\n",
       "    .dataframe tbody tr th {\n",
       "        vertical-align: top;\n",
       "    }\n",
       "\n",
       "    .dataframe thead th {\n",
       "        text-align: right;\n",
       "    }\n",
       "</style>\n",
       "<table border=\"1\" class=\"dataframe\">\n",
       "  <thead>\n",
       "    <tr style=\"text-align: right;\">\n",
       "      <th></th>\n",
       "      <th>parent</th>\n",
       "      <th>country</th>\n",
       "    </tr>\n",
       "  </thead>\n",
       "  <tbody>\n",
       "    <tr>\n",
       "      <th>0</th>\n",
       "      <td>localservices</td>\n",
       "      <td>ALL</td>\n",
       "    </tr>\n",
       "    <tr>\n",
       "      <th>1</th>\n",
       "      <td>italian</td>\n",
       "      <td>IT</td>\n",
       "    </tr>\n",
       "    <tr>\n",
       "      <th>2</th>\n",
       "      <td>bars</td>\n",
       "      <td>CZ</td>\n",
       "    </tr>\n",
       "    <tr>\n",
       "      <th>3</th>\n",
       "      <td>food</td>\n",
       "      <td>ALL</td>\n",
       "    </tr>\n",
       "    <tr>\n",
       "      <th>4</th>\n",
       "      <td>fashion</td>\n",
       "      <td>ALL</td>\n",
       "    </tr>\n",
       "  </tbody>\n",
       "</table>\n",
       "</div>"
      ],
      "text/plain": [
       "          parent country\n",
       "0  localservices     ALL\n",
       "1        italian      IT\n",
       "2           bars      CZ\n",
       "3           food     ALL\n",
       "4        fashion     ALL"
      ]
     },
     "metadata": {},
     "output_type": "display_data"
    },
    {
     "data": {
      "text/html": [
       "<div>\n",
       "<style scoped>\n",
       "    .dataframe tbody tr th:only-of-type {\n",
       "        vertical-align: middle;\n",
       "    }\n",
       "\n",
       "    .dataframe tbody tr th {\n",
       "        vertical-align: top;\n",
       "    }\n",
       "\n",
       "    .dataframe thead th {\n",
       "        text-align: right;\n",
       "    }\n",
       "</style>\n",
       "<table border=\"1\" class=\"dataframe\">\n",
       "  <thead>\n",
       "    <tr style=\"text-align: right;\">\n",
       "      <th></th>\n",
       "      <th>parent</th>\n",
       "      <th>country</th>\n",
       "    </tr>\n",
       "  </thead>\n",
       "  <tbody>\n",
       "    <tr>\n",
       "      <th>count</th>\n",
       "      <td>4102</td>\n",
       "      <td>4127</td>\n",
       "    </tr>\n",
       "    <tr>\n",
       "      <th>unique</th>\n",
       "      <td>121</td>\n",
       "      <td>34</td>\n",
       "    </tr>\n",
       "    <tr>\n",
       "      <th>top</th>\n",
       "      <td>restaurants</td>\n",
       "      <td>ALL</td>\n",
       "    </tr>\n",
       "    <tr>\n",
       "      <th>freq</th>\n",
       "      <td>502</td>\n",
       "      <td>1084</td>\n",
       "    </tr>\n",
       "  </tbody>\n",
       "</table>\n",
       "</div>"
      ],
      "text/plain": [
       "             parent country\n",
       "count          4102    4127\n",
       "unique          121      34\n",
       "top     restaurants     ALL\n",
       "freq            502    1084"
      ]
     },
     "metadata": {},
     "output_type": "display_data"
    }
   ],
   "source": [
    "# Explode each column\n",
    "df = df.explode('parent')\n",
    "df = df.explode('country')\n",
    "display(df.head(), df.describe())"
   ]
  },
  {
   "cell_type": "code",
   "execution_count": 28,
   "metadata": {},
   "outputs": [
    {
     "data": {
      "text/html": [
       "<div>\n",
       "<style scoped>\n",
       "    .dataframe tbody tr th:only-of-type {\n",
       "        vertical-align: middle;\n",
       "    }\n",
       "\n",
       "    .dataframe tbody tr th {\n",
       "        vertical-align: top;\n",
       "    }\n",
       "\n",
       "    .dataframe thead th {\n",
       "        text-align: right;\n",
       "    }\n",
       "</style>\n",
       "<table border=\"1\" class=\"dataframe\">\n",
       "  <thead>\n",
       "    <tr style=\"text-align: right;\">\n",
       "      <th></th>\n",
       "      <th>parent</th>\n",
       "      <th>country</th>\n",
       "    </tr>\n",
       "  </thead>\n",
       "  <tbody>\n",
       "    <tr>\n",
       "      <th>count</th>\n",
       "      <td>4102</td>\n",
       "      <td>4102</td>\n",
       "    </tr>\n",
       "    <tr>\n",
       "      <th>unique</th>\n",
       "      <td>121</td>\n",
       "      <td>34</td>\n",
       "    </tr>\n",
       "    <tr>\n",
       "      <th>top</th>\n",
       "      <td>restaurants</td>\n",
       "      <td>ALL</td>\n",
       "    </tr>\n",
       "    <tr>\n",
       "      <th>freq</th>\n",
       "      <td>502</td>\n",
       "      <td>1063</td>\n",
       "    </tr>\n",
       "  </tbody>\n",
       "</table>\n",
       "</div>"
      ],
      "text/plain": [
       "             parent country\n",
       "count          4102    4102\n",
       "unique          121      34\n",
       "top     restaurants     ALL\n",
       "freq            502    1063"
      ]
     },
     "execution_count": 28,
     "metadata": {},
     "output_type": "execute_result"
    }
   ],
   "source": [
    "# Clean data\n",
    "df = df.dropna()\n",
    "df.describe()"
   ]
  },
  {
   "cell_type": "code",
   "execution_count": 36,
   "metadata": {},
   "outputs": [
    {
     "name": "stdout",
     "output_type": "stream",
     "text": [
      "\r",
      "parent_categories_by_country.json  157156 / 157156.0  (100.00%)"
     ]
    }
   ],
   "source": [
    "# Save Data\n",
    "from awstools import s3\n",
    "\n",
    "# Setup bucket link to AWS\n",
    "bucket = s3.Bucket('yelp-data-shared-labs18')\n",
    "\n",
    "# Save locally\n",
    "filename = 'parent_categories_by_country.json'\n",
    "df.to_json(filename, orient='records')\n",
    "\n",
    "# Upload to S3 bucket\n",
    "bucket.save(filename, 'Tables/'+filename)"
   ]
  },
  {
   "cell_type": "code",
   "execution_count": 3,
   "metadata": {},
   "outputs": [
    {
     "data": {
      "text/plain": [
       "['cannabis_clinics', 'restaurants', 'wholesalers', 'food', 'photographers']"
      ]
     },
     "execution_count": 3,
     "metadata": {},
     "output_type": "execute_result"
    }
   ],
   "source": [
    "# Get categories table from s3\n",
    "from awstools import s3\n",
    "bucket = s3.Bucket('yelp-data-shared-labs18')\n",
    "bucket.get('Tables/parent_categories_by_country.json', 'parent_cat.json')\n",
    "\n",
    "# Load json into dataframe and filter\n",
    "import pandas as pd\n",
    "cats = pd.read_json('parent_cat.json')\n",
    "us_cats = set( # Set will maintain only distinct items\n",
    "    cats.query('country == \"US\"').parent # Query dataframe and get series\n",
    ")\n",
    "us_cats = list(us_cats)  # sets are not subscriptable. cast to list.\n",
    "us_cats[0:5]"
   ]
  },
  {
   "cell_type": "markdown",
   "metadata": {},
   "source": [
    "## Scrape Category by (lat, lon)\n",
    "\n",
    "Now that categories can be searched indvidually, effectively filtering result streams (and allowing larger hops in category), we can test the yelpfusion api with an example search in the form:\n",
    "\n",
    "query(category=category, latitude=lat, longitude=lon, limit=limit)"
   ]
  },
  {
   "cell_type": "code",
   "execution_count": 2,
   "metadata": {},
   "outputs": [
    {
     "name": "stdout",
     "output_type": "stream",
     "text": [
      "Environment variables set.\n"
     ]
    }
   ],
   "source": [
    "from scraper_1_urls import load_environment, get_client\n",
    "\n",
    "load_environment(from_file=True)\n",
    "client = get_client()"
   ]
  },
  {
   "cell_type": "code",
   "execution_count": 6,
   "metadata": {},
   "outputs": [],
   "source": [
    "# Example location (san francisco)\n",
    "lat = 37.7739\n",
    "lon = -122.431297\n",
    "category = 'cannabis_clinics'\n",
    "\n",
    "search_results = client.search_query(categories=category, latitude=lat, longitude=lon)"
   ]
  },
  {
   "cell_type": "markdown",
   "metadata": {},
   "source": [
    "## Data Cleaning and Storage\n",
    "\n",
    "In situ cleaning and storage in a local database prior writing to the RDS instance happens in two three.\n",
    "\n",
    "1. The data cleaned and dumped into a pandas dataframe.\n",
    "2. Each id is checked against the local database of collected businesses for unique ID.\n",
    "3. Unique elements are written to the database and the dataframe is overwritten by the next search."
   ]
  },
  {
   "cell_type": "code",
   "execution_count": 13,
   "metadata": {},
   "outputs": [
    {
     "data": {
      "text/html": [
       "<div>\n",
       "<style scoped>\n",
       "    .dataframe tbody tr th:only-of-type {\n",
       "        vertical-align: middle;\n",
       "    }\n",
       "\n",
       "    .dataframe tbody tr th {\n",
       "        vertical-align: top;\n",
       "    }\n",
       "\n",
       "    .dataframe thead th {\n",
       "        text-align: right;\n",
       "    }\n",
       "</style>\n",
       "<table border=\"1\" class=\"dataframe\">\n",
       "  <thead>\n",
       "    <tr style=\"text-align: right;\">\n",
       "      <th></th>\n",
       "      <th>id</th>\n",
       "      <th>alias</th>\n",
       "      <th>name</th>\n",
       "      <th>image_url</th>\n",
       "      <th>is_closed</th>\n",
       "      <th>url</th>\n",
       "      <th>review_count</th>\n",
       "      <th>categories</th>\n",
       "      <th>rating</th>\n",
       "      <th>coordinates</th>\n",
       "      <th>transactions</th>\n",
       "      <th>location</th>\n",
       "      <th>phone</th>\n",
       "      <th>display_phone</th>\n",
       "      <th>distance</th>\n",
       "    </tr>\n",
       "  </thead>\n",
       "  <tbody>\n",
       "    <tr>\n",
       "      <th>0</th>\n",
       "      <td>mOanZdaJQu4pBKAJShtHrA</td>\n",
       "      <td>foggy-daze-delivery-service-san-francisco</td>\n",
       "      <td>Foggy Daze Delivery Service</td>\n",
       "      <td>https://s3-media4.fl.yelpcdn.com/bphoto/CH_qJY...</td>\n",
       "      <td>False</td>\n",
       "      <td>https://www.yelp.com/biz/foggy-daze-delivery-s...</td>\n",
       "      <td>134</td>\n",
       "      <td>[{'alias': 'cannabis_clinics', 'title': 'Canna...</td>\n",
       "      <td>5.0</td>\n",
       "      <td>{'latitude': 37.76468, 'longitude': -122.43193}</td>\n",
       "      <td>[]</td>\n",
       "      <td>{'address1': '2261 Market St', 'address2': 'St...</td>\n",
       "      <td>+14152007451</td>\n",
       "      <td>(415) 200-7451</td>\n",
       "      <td>1022.487674</td>\n",
       "    </tr>\n",
       "  </tbody>\n",
       "</table>\n",
       "</div>"
      ],
      "text/plain": [
       "                       id                                      alias  \\\n",
       "0  mOanZdaJQu4pBKAJShtHrA  foggy-daze-delivery-service-san-francisco   \n",
       "\n",
       "                          name  \\\n",
       "0  Foggy Daze Delivery Service   \n",
       "\n",
       "                                           image_url  is_closed  \\\n",
       "0  https://s3-media4.fl.yelpcdn.com/bphoto/CH_qJY...      False   \n",
       "\n",
       "                                                 url  review_count  \\\n",
       "0  https://www.yelp.com/biz/foggy-daze-delivery-s...           134   \n",
       "\n",
       "                                          categories  rating  \\\n",
       "0  [{'alias': 'cannabis_clinics', 'title': 'Canna...     5.0   \n",
       "\n",
       "                                       coordinates transactions  \\\n",
       "0  {'latitude': 37.76468, 'longitude': -122.43193}           []   \n",
       "\n",
       "                                            location         phone  \\\n",
       "0  {'address1': '2261 Market St', 'address2': 'St...  +14152007451   \n",
       "\n",
       "    display_phone     distance  \n",
       "0  (415) 200-7451  1022.487674  "
      ]
     },
     "metadata": {},
     "output_type": "display_data"
    },
    {
     "data": {
      "text/plain": [
       "Index(['id', 'alias', 'name', 'image_url', 'is_closed', 'url', 'review_count',\n",
       "       'categories', 'rating', 'coordinates', 'transactions', 'location',\n",
       "       'phone', 'display_phone', 'distance'],\n",
       "      dtype='object')"
      ]
     },
     "metadata": {},
     "output_type": "display_data"
    }
   ],
   "source": [
    "# Dump to dataframe\n",
    "df = pd.DataFrame(search_results['businesses'])\n",
    "display(df.head(1), df.columns)"
   ]
  },
  {
   "cell_type": "code",
   "execution_count": 68,
   "metadata": {},
   "outputs": [
    {
     "data": {
      "text/html": [
       "<div>\n",
       "<style scoped>\n",
       "    .dataframe tbody tr th:only-of-type {\n",
       "        vertical-align: middle;\n",
       "    }\n",
       "\n",
       "    .dataframe tbody tr th {\n",
       "        vertical-align: top;\n",
       "    }\n",
       "\n",
       "    .dataframe thead th {\n",
       "        text-align: right;\n",
       "    }\n",
       "</style>\n",
       "<table border=\"1\" class=\"dataframe\">\n",
       "  <thead>\n",
       "    <tr style=\"text-align: right;\">\n",
       "      <th></th>\n",
       "      <th>business_id</th>\n",
       "      <th>name</th>\n",
       "      <th>image_url</th>\n",
       "      <th>review_count</th>\n",
       "      <th>url</th>\n",
       "      <th>categories</th>\n",
       "      <th>is_open</th>\n",
       "      <th>address</th>\n",
       "      <th>city</th>\n",
       "      <th>state</th>\n",
       "      <th>postal_code</th>\n",
       "      <th>latitude</th>\n",
       "      <th>longitude</th>\n",
       "    </tr>\n",
       "  </thead>\n",
       "  <tbody>\n",
       "    <tr>\n",
       "      <th>0</th>\n",
       "      <td>mOanZdaJQu4pBKAJShtHrA</td>\n",
       "      <td>Foggy Daze Delivery Service</td>\n",
       "      <td>https://s3-media4.fl.yelpcdn.com/bphoto/CH_qJY...</td>\n",
       "      <td>134</td>\n",
       "      <td>https://www.yelp.com/biz/foggy-daze-delivery-s...</td>\n",
       "      <td>cannabis_clinics</td>\n",
       "      <td>True</td>\n",
       "      <td>2261 Market StSte 289</td>\n",
       "      <td>San Francisco</td>\n",
       "      <td>CA</td>\n",
       "      <td>94114</td>\n",
       "      <td>37.76468</td>\n",
       "      <td>-122.43193</td>\n",
       "    </tr>\n",
       "  </tbody>\n",
       "</table>\n",
       "</div>"
      ],
      "text/plain": [
       "              business_id                         name  \\\n",
       "0  mOanZdaJQu4pBKAJShtHrA  Foggy Daze Delivery Service   \n",
       "\n",
       "                                           image_url  review_count  \\\n",
       "0  https://s3-media4.fl.yelpcdn.com/bphoto/CH_qJY...           134   \n",
       "\n",
       "                                                 url        categories  \\\n",
       "0  https://www.yelp.com/biz/foggy-daze-delivery-s...  cannabis_clinics   \n",
       "\n",
       "   is_open                address           city state postal_code  latitude  \\\n",
       "0     True  2261 Market StSte 289  San Francisco    CA       94114  37.76468   \n",
       "\n",
       "   longitude  \n",
       "0 -122.43193  "
      ]
     },
     "execution_count": 68,
     "metadata": {},
     "output_type": "execute_result"
    }
   ],
   "source": [
    "# Building a cleaning function for searches\n",
    "\n",
    "def clean_business_search(df: pd.DataFrame):\n",
    "    temp = df.copy()\n",
    "    # Filter and Rename Columns\n",
    "    temp = df.filter(['id', 'name', 'image_url', 'coordinates', \\\n",
    "                      'review_count', 'is_closed', 'url', 'categories',\\\n",
    "                      'location'])\n",
    "    temp = temp.rename(columns={'id':'business_id', 'rating': 'stars'})\n",
    "    \n",
    "    # change is_closed to is_open (flip bool)\n",
    "    temp['is_open'] = temp.is_closed.apply(lambda x: not x)\n",
    "    temp = temp.drop(columns='is_closed')\n",
    "    \n",
    "    # parse location to address, city, state, postal_code\n",
    "    temp['address'] = temp.location.apply(lambda x: x['address1']+str(x['address2']))\n",
    "    temp['city'] = temp.location.apply(lambda x: x['city'])\n",
    "    temp['state'] = temp.location.apply(lambda x: x['state'])\n",
    "    temp['postal_code'] = temp.location.apply(lambda x: x['zip_code'])\n",
    "    temp = temp.drop(columns='location')\n",
    "    \n",
    "    # clean categories down to alias (more similar to parent search)\n",
    "    temp.categories = temp.categories.apply(lambda x: ','.join([z['alias'] for z in x]))\n",
    "    \n",
    "    # parse coordinates\n",
    "    temp['latitude'] = temp.coordinates.apply(lambda x: x['latitude'])\n",
    "    temp['longitude'] = temp.coordinates.apply(lambda x: x['longitude'])\n",
    "    temp = temp.drop(columns='coordinates')\n",
    "    \n",
    "    return temp\n",
    "\n",
    "clean_business_search(df).head(1)"
   ]
  },
  {
   "cell_type": "markdown",
   "metadata": {},
   "source": [
    "## Test Search Pipeline\n",
    "\n",
    "Test the search interface"
   ]
  },
  {
   "cell_type": "code",
   "execution_count": 2,
   "metadata": {},
   "outputs": [
    {
     "data": {
      "text/html": [
       "<div>\n",
       "<style scoped>\n",
       "    .dataframe tbody tr th:only-of-type {\n",
       "        vertical-align: middle;\n",
       "    }\n",
       "\n",
       "    .dataframe tbody tr th {\n",
       "        vertical-align: top;\n",
       "    }\n",
       "\n",
       "    .dataframe thead th {\n",
       "        text-align: right;\n",
       "    }\n",
       "</style>\n",
       "<table border=\"1\" class=\"dataframe\">\n",
       "  <thead>\n",
       "    <tr style=\"text-align: right;\">\n",
       "      <th></th>\n",
       "      <th>business_id</th>\n",
       "      <th>name</th>\n",
       "      <th>image_url</th>\n",
       "      <th>review_count</th>\n",
       "      <th>url</th>\n",
       "      <th>categories</th>\n",
       "      <th>is_open</th>\n",
       "      <th>address</th>\n",
       "      <th>city</th>\n",
       "      <th>state</th>\n",
       "      <th>postal_code</th>\n",
       "      <th>latitude</th>\n",
       "      <th>longitude</th>\n",
       "    </tr>\n",
       "  </thead>\n",
       "  <tbody>\n",
       "    <tr>\n",
       "      <th>0</th>\n",
       "      <td>mOanZdaJQu4pBKAJShtHrA</td>\n",
       "      <td>Foggy Daze Delivery Service</td>\n",
       "      <td>https://s3-media4.fl.yelpcdn.com/bphoto/CH_qJY...</td>\n",
       "      <td>134</td>\n",
       "      <td>https://www.yelp.com/biz/foggy-daze-delivery-s...</td>\n",
       "      <td>cannabis_clinics</td>\n",
       "      <td>True</td>\n",
       "      <td>2261 Market StSte 289</td>\n",
       "      <td>San Francisco</td>\n",
       "      <td>CA</td>\n",
       "      <td>94114</td>\n",
       "      <td>37.764680</td>\n",
       "      <td>-122.431930</td>\n",
       "    </tr>\n",
       "    <tr>\n",
       "      <th>1</th>\n",
       "      <td>9nN-N3mI_bl6xefu0dmAZg</td>\n",
       "      <td>The Apothecarium - Castro</td>\n",
       "      <td>https://s3-media3.fl.yelpcdn.com/bphoto/4cFXAM...</td>\n",
       "      <td>308</td>\n",
       "      <td>https://www.yelp.com/biz/the-apothecarium-cast...</td>\n",
       "      <td>cannabis_clinics,cannabisdispensaries</td>\n",
       "      <td>True</td>\n",
       "      <td>2029 Market StNone</td>\n",
       "      <td>San Francisco</td>\n",
       "      <td>CA</td>\n",
       "      <td>94114</td>\n",
       "      <td>37.768354</td>\n",
       "      <td>-122.427565</td>\n",
       "    </tr>\n",
       "    <tr>\n",
       "      <th>2</th>\n",
       "      <td>dMcSHwulNkMXnDkda5yVtw</td>\n",
       "      <td>Barbary Coast Dispensary</td>\n",
       "      <td>https://s3-media4.fl.yelpcdn.com/bphoto/ML_5Q-...</td>\n",
       "      <td>405</td>\n",
       "      <td>https://www.yelp.com/biz/barbary-coast-dispens...</td>\n",
       "      <td>cannabis_clinics</td>\n",
       "      <td>True</td>\n",
       "      <td>952 Mission St</td>\n",
       "      <td>San Francisco</td>\n",
       "      <td>CA</td>\n",
       "      <td>94103</td>\n",
       "      <td>37.782050</td>\n",
       "      <td>-122.407850</td>\n",
       "    </tr>\n",
       "    <tr>\n",
       "      <th>3</th>\n",
       "      <td>PyH7DhskVlQ7N26EV-zzOA</td>\n",
       "      <td>Purple Star, MD</td>\n",
       "      <td>https://s3-media2.fl.yelpcdn.com/bphoto/iQ9bZz...</td>\n",
       "      <td>282</td>\n",
       "      <td>https://www.yelp.com/biz/purple-star-md-san-fr...</td>\n",
       "      <td>cannabis_clinics,cannabisdispensaries</td>\n",
       "      <td>True</td>\n",
       "      <td>2520 Mission St</td>\n",
       "      <td>San Francisco</td>\n",
       "      <td>CA</td>\n",
       "      <td>94110</td>\n",
       "      <td>37.756634</td>\n",
       "      <td>-122.419033</td>\n",
       "    </tr>\n",
       "    <tr>\n",
       "      <th>4</th>\n",
       "      <td>VO8TVz-5gVAuLLz0aHOUIg</td>\n",
       "      <td>Green Door</td>\n",
       "      <td>https://s3-media2.fl.yelpcdn.com/bphoto/Chz0aE...</td>\n",
       "      <td>321</td>\n",
       "      <td>https://www.yelp.com/biz/green-door-san-franci...</td>\n",
       "      <td>cannabis_clinics</td>\n",
       "      <td>True</td>\n",
       "      <td>843 Howard StNone</td>\n",
       "      <td>San Francisco</td>\n",
       "      <td>CA</td>\n",
       "      <td>94103</td>\n",
       "      <td>37.782280</td>\n",
       "      <td>-122.403520</td>\n",
       "    </tr>\n",
       "  </tbody>\n",
       "</table>\n",
       "</div>"
      ],
      "text/plain": [
       "              business_id                         name  \\\n",
       "0  mOanZdaJQu4pBKAJShtHrA  Foggy Daze Delivery Service   \n",
       "1  9nN-N3mI_bl6xefu0dmAZg    The Apothecarium - Castro   \n",
       "2  dMcSHwulNkMXnDkda5yVtw     Barbary Coast Dispensary   \n",
       "3  PyH7DhskVlQ7N26EV-zzOA              Purple Star, MD   \n",
       "4  VO8TVz-5gVAuLLz0aHOUIg                   Green Door   \n",
       "\n",
       "                                           image_url  review_count  \\\n",
       "0  https://s3-media4.fl.yelpcdn.com/bphoto/CH_qJY...           134   \n",
       "1  https://s3-media3.fl.yelpcdn.com/bphoto/4cFXAM...           308   \n",
       "2  https://s3-media4.fl.yelpcdn.com/bphoto/ML_5Q-...           405   \n",
       "3  https://s3-media2.fl.yelpcdn.com/bphoto/iQ9bZz...           282   \n",
       "4  https://s3-media2.fl.yelpcdn.com/bphoto/Chz0aE...           321   \n",
       "\n",
       "                                                 url  \\\n",
       "0  https://www.yelp.com/biz/foggy-daze-delivery-s...   \n",
       "1  https://www.yelp.com/biz/the-apothecarium-cast...   \n",
       "2  https://www.yelp.com/biz/barbary-coast-dispens...   \n",
       "3  https://www.yelp.com/biz/purple-star-md-san-fr...   \n",
       "4  https://www.yelp.com/biz/green-door-san-franci...   \n",
       "\n",
       "                              categories  is_open                address  \\\n",
       "0                       cannabis_clinics     True  2261 Market StSte 289   \n",
       "1  cannabis_clinics,cannabisdispensaries     True     2029 Market StNone   \n",
       "2                       cannabis_clinics     True         952 Mission St   \n",
       "3  cannabis_clinics,cannabisdispensaries     True        2520 Mission St   \n",
       "4                       cannabis_clinics     True      843 Howard StNone   \n",
       "\n",
       "            city state postal_code   latitude   longitude  \n",
       "0  San Francisco    CA       94114  37.764680 -122.431930  \n",
       "1  San Francisco    CA       94114  37.768354 -122.427565  \n",
       "2  San Francisco    CA       94103  37.782050 -122.407850  \n",
       "3  San Francisco    CA       94110  37.756634 -122.419033  \n",
       "4  San Francisco    CA       94103  37.782280 -122.403520  "
      ]
     },
     "execution_count": 2,
     "metadata": {},
     "output_type": "execute_result"
    }
   ],
   "source": [
    "from scraper_1_urls import search\n",
    "\n",
    "# Example location (san francisco)\n",
    "lat = 37.7739\n",
    "lon = -122.431297\n",
    "category = 'cannabis_clinics'\n",
    "\n",
    "search(latitude=lat, longitude=lon, category=category).head()"
   ]
  },
  {
   "cell_type": "code",
   "execution_count": null,
   "metadata": {},
   "outputs": [],
   "source": []
  }
 ],
 "metadata": {
  "kernelspec": {
   "display_name": "Python 3",
   "language": "python",
   "name": "python3"
  },
  "language_info": {
   "codemirror_mode": {
    "name": "ipython",
    "version": 3
   },
   "file_extension": ".py",
   "mimetype": "text/x-python",
   "name": "python",
   "nbconvert_exporter": "python",
   "pygments_lexer": "ipython3",
   "version": "3.7.5"
  }
 },
 "nbformat": 4,
 "nbformat_minor": 2
}
