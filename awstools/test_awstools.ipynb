{
 "cells": [
  {
   "cell_type": "code",
   "execution_count": 2,
   "metadata": {},
   "outputs": [],
   "source": [
    "from awstools import s3"
   ]
  },
  {
   "cell_type": "code",
   "execution_count": 3,
   "metadata": {},
   "outputs": [],
   "source": [
    "# Initialize bucket\n",
    "bucket = s3.Bucket('yelp-data-shared-labs18')"
   ]
  },
  {
   "cell_type": "code",
   "execution_count": null,
   "metadata": {},
   "outputs": [],
   "source": [
    "# Save a file\n",
    "filepath = \"/mnt/cluster_share/lambda_school/Labs/yelp-dataset-challenge-2-ds/awstools/job_2019-11-12.json\"\n",
    "bucket.save(filepath, 'Jobs/job_2019-11-12.json')"
   ]
  },
  {
   "cell_type": "code",
   "execution_count": 3,
   "metadata": {},
   "outputs": [],
   "source": [
    "# Find a file\n",
    "i = 1\n",
    "for item in bucket.find(search='test'):\n",
    "    print(item)"
   ]
  },
  {
   "cell_type": "code",
   "execution_count": null,
   "metadata": {},
   "outputs": [],
   "source": []
  },
  {
   "cell_type": "code",
   "execution_count": 4,
   "metadata": {},
   "outputs": [],
   "source": [
    "# Test a download to memory (only works with binary types right now. e.g. parquet)\n",
    "download = bucket.get('sample_data/tip.parquet')"
   ]
  },
  {
   "cell_type": "code",
   "execution_count": 8,
   "metadata": {},
   "outputs": [
    {
     "name": "stdout",
     "output_type": "stream",
     "text": [
      "Requirement already satisfied: pyarrow in /home/vbrandon/anaconda3/lib/python3.7/site-packages (0.15.1)\r\n",
      "Requirement already satisfied: numpy>=1.14 in /home/vbrandon/anaconda3/lib/python3.7/site-packages (from pyarrow) (1.17.2)\r\n",
      "Requirement already satisfied: six>=1.0.0 in /home/vbrandon/anaconda3/lib/python3.7/site-packages (from pyarrow) (1.12.0)\r\n"
     ]
    },
    {
     "data": {
      "text/html": [
       "<div>\n",
       "<style scoped>\n",
       "    .dataframe tbody tr th:only-of-type {\n",
       "        vertical-align: middle;\n",
       "    }\n",
       "\n",
       "    .dataframe tbody tr th {\n",
       "        vertical-align: top;\n",
       "    }\n",
       "\n",
       "    .dataframe thead th {\n",
       "        text-align: right;\n",
       "    }\n",
       "</style>\n",
       "<table border=\"1\" class=\"dataframe\">\n",
       "  <thead>\n",
       "    <tr style=\"text-align: right;\">\n",
       "      <th></th>\n",
       "      <th>user_id</th>\n",
       "      <th>business_id</th>\n",
       "      <th>text</th>\n",
       "      <th>date</th>\n",
       "      <th>compliment_count</th>\n",
       "    </tr>\n",
       "  </thead>\n",
       "  <tbody>\n",
       "    <tr>\n",
       "      <td>43058</td>\n",
       "      <td>yo74UdoRXo4-9W4_rw6OVQ</td>\n",
       "      <td>DkYS3arLOhA8si5uUEmHOw</td>\n",
       "      <td>The Italian sub didn't come with any lettuce. ...</td>\n",
       "      <td>2012-06-05 08:52:02</td>\n",
       "      <td>0</td>\n",
       "    </tr>\n",
       "    <tr>\n",
       "      <td>133912</td>\n",
       "      <td>UYcmGbelzRa0Q6JqzLoguw</td>\n",
       "      <td>QGAv-8tj5i4m4G-HDMnIbA</td>\n",
       "      <td>Service is horrible and skip the cake batter s...</td>\n",
       "      <td>2015-01-26 00:43:02</td>\n",
       "      <td>1</td>\n",
       "    </tr>\n",
       "    <tr>\n",
       "      <td>435180</td>\n",
       "      <td>xyOC6_uzW_H33j1XmjFitA</td>\n",
       "      <td>5S4qWTntF4S-JNTbPNyYPw</td>\n",
       "      <td>Great place for coffee and to kick back and \"g...</td>\n",
       "      <td>2017-11-08 20:16:07</td>\n",
       "      <td>0</td>\n",
       "    </tr>\n",
       "    <tr>\n",
       "      <td>111024</td>\n",
       "      <td>CxDOIDnH8gp9KXzpBHJYXw</td>\n",
       "      <td>c6f8wBjPLDzyubEBqgcMnw</td>\n",
       "      <td>No washroom.... Hold.. Hold.. Hold..</td>\n",
       "      <td>2013-02-12 18:30:20</td>\n",
       "      <td>0</td>\n",
       "    </tr>\n",
       "    <tr>\n",
       "      <td>768408</td>\n",
       "      <td>_VOxmPH8tdGQS3D7TMGFQg</td>\n",
       "      <td>DVfCbJhJUDWRlUfrKzaKOA</td>\n",
       "      <td>This is so great. Restaurant in front and MSG ...</td>\n",
       "      <td>2016-12-20 06:19:51</td>\n",
       "      <td>0</td>\n",
       "    </tr>\n",
       "  </tbody>\n",
       "</table>\n",
       "</div>"
      ],
      "text/plain": [
       "                       user_id             business_id  \\\n",
       "43058   yo74UdoRXo4-9W4_rw6OVQ  DkYS3arLOhA8si5uUEmHOw   \n",
       "133912  UYcmGbelzRa0Q6JqzLoguw  QGAv-8tj5i4m4G-HDMnIbA   \n",
       "435180  xyOC6_uzW_H33j1XmjFitA  5S4qWTntF4S-JNTbPNyYPw   \n",
       "111024  CxDOIDnH8gp9KXzpBHJYXw  c6f8wBjPLDzyubEBqgcMnw   \n",
       "768408  _VOxmPH8tdGQS3D7TMGFQg  DVfCbJhJUDWRlUfrKzaKOA   \n",
       "\n",
       "                                                     text                date  \\\n",
       "43058   The Italian sub didn't come with any lettuce. ... 2012-06-05 08:52:02   \n",
       "133912  Service is horrible and skip the cake batter s... 2015-01-26 00:43:02   \n",
       "435180  Great place for coffee and to kick back and \"g... 2017-11-08 20:16:07   \n",
       "111024               No washroom.... Hold.. Hold.. Hold.. 2013-02-12 18:30:20   \n",
       "768408  This is so great. Restaurant in front and MSG ... 2016-12-20 06:19:51   \n",
       "\n",
       "        compliment_count  \n",
       "43058                  0  \n",
       "133912                 1  \n",
       "435180                 0  \n",
       "111024                 0  \n",
       "768408                 0  "
      ]
     },
     "execution_count": 8,
     "metadata": {},
     "output_type": "execute_result"
    }
   ],
   "source": [
    "import pandas as pd\n",
    "!pip install pyarrow\n",
    "pd.read_parquet(download).head()"
   ]
  },
  {
   "cell_type": "code",
   "execution_count": null,
   "metadata": {},
   "outputs": [],
   "source": []
  }
 ],
 "metadata": {
  "kernelspec": {
   "display_name": "Python 3",
   "language": "python",
   "name": "python3"
  },
  "language_info": {
   "codemirror_mode": {
    "name": "ipython",
    "version": 3
   },
   "file_extension": ".py",
   "mimetype": "text/x-python",
   "name": "python",
   "nbconvert_exporter": "python",
   "pygments_lexer": "ipython3",
   "version": "3.7.5"
  }
 },
 "nbformat": 4,
 "nbformat_minor": 2
}
