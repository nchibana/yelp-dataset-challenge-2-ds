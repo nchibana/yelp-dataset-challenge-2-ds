{
 "cells": [
  {
   "cell_type": "code",
   "execution_count": 1,
   "metadata": {},
   "outputs": [],
   "source": [
    "from awstools import s3"
   ]
  },
  {
   "cell_type": "code",
   "execution_count": 2,
   "metadata": {},
   "outputs": [],
   "source": [
    "# Initialize bucket\n",
    "bucket = s3.Bucket('yelp-data-shared-labs18')"
   ]
  },
  {
   "cell_type": "code",
   "execution_count": 4,
   "metadata": {},
   "outputs": [
    {
     "name": "stdout",
     "output_type": "stream",
     "text": [
      "\r",
      "/mnt/cluster_share/lambda_school/Labs/yelp-dataset-challenge-2-ds/awstools/job_2019-11-12.json  38 / 38.0  (100.00%)"
     ]
    }
   ],
   "source": [
    "# Save a file\n",
    "filepath = \"/mnt/cluster_share/lambda_school/Labs/yelp-dataset-challenge-2-ds/awstools/job_2019-11-12.json\"\n",
    "bucket.save(filepath, 'Jobs/job_2019-11-12.json')"
   ]
  },
  {
   "cell_type": "code",
   "execution_count": null,
   "metadata": {},
   "outputs": [],
   "source": []
  }
 ],
 "metadata": {
  "kernelspec": {
   "display_name": "Python 3",
   "language": "python",
   "name": "python3"
  },
  "language_info": {
   "codemirror_mode": {
    "name": "ipython",
    "version": 3
   },
   "file_extension": ".py",
   "mimetype": "text/x-python",
   "name": "python",
   "nbconvert_exporter": "python",
   "pygments_lexer": "ipython3",
   "version": "3.7.5"
  }
 },
 "nbformat": 4,
 "nbformat_minor": 2
}
